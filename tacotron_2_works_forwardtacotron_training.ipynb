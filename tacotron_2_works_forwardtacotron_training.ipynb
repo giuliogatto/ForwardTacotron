{
  "nbformat": 4,
  "nbformat_minor": 0,
  "metadata": {
    "colab": {
      "name": "tacotron 2 works-forwardtacotron-training",
      "provenance": [],
      "collapsed_sections": [],
      "include_colab_link": true
    },
    "kernelspec": {
      "name": "python3",
      "display_name": "Python 3"
    },
    "accelerator": "GPU"
  },
  "cells": [
    {
      "cell_type": "markdown",
      "metadata": {
        "id": "view-in-github",
        "colab_type": "text"
      },
      "source": [
        "<a href=\"https://colab.research.google.com/github/giuliogatto/ForwardTacotron/blob/master/tacotron_2_works_forwardtacotron_training.ipynb\" target=\"_parent\"><img src=\"https://colab.research.google.com/assets/colab-badge.svg\" alt=\"Open In Colab\"/></a>"
      ]
    },
    {
      "cell_type": "markdown",
      "metadata": {
        "id": "rIIZ2RnesZTw",
        "colab_type": "text"
      },
      "source": [
        "## Setup"
      ]
    },
    {
      "cell_type": "code",
      "metadata": {
        "id": "LHfPLGkqe-Jx",
        "colab_type": "code",
        "outputId": "7748f5b0-0d21-4b54-f449-d7e8d7ffede2",
        "colab": {
          "base_uri": "https://localhost:8080/",
          "height": 153
        }
      },
      "source": [
        "# Clone the repo including pretrained models\n",
        "!git clone https://github.com/as-ideas/ForwardTacotron.git"
      ],
      "execution_count": 1,
      "outputs": [
        {
          "output_type": "stream",
          "text": [
            "Cloning into 'ForwardTacotron'...\n",
            "remote: Enumerating objects: 83, done.\u001b[K\n",
            "remote: Counting objects:   1% (1/83)\u001b[K\rremote: Counting objects:   2% (2/83)\u001b[K\rremote: Counting objects:   3% (3/83)\u001b[K\rremote: Counting objects:   4% (4/83)\u001b[K\rremote: Counting objects:   6% (5/83)\u001b[K\rremote: Counting objects:   7% (6/83)\u001b[K\rremote: Counting objects:   8% (7/83)\u001b[K\rremote: Counting objects:   9% (8/83)\u001b[K\rremote: Counting objects:  10% (9/83)\u001b[K\rremote: Counting objects:  12% (10/83)\u001b[K\rremote: Counting objects:  13% (11/83)\u001b[K\rremote: Counting objects:  14% (12/83)\u001b[K\rremote: Counting objects:  15% (13/83)\u001b[K\rremote: Counting objects:  16% (14/83)\u001b[K\rremote: Counting objects:  18% (15/83)\u001b[K\rremote: Counting objects:  19% (16/83)\u001b[K\rremote: Counting objects:  20% (17/83)\u001b[K\rremote: Counting objects:  21% (18/83)\u001b[K\rremote: Counting objects:  22% (19/83)\u001b[K\rremote: Counting objects:  24% (20/83)\u001b[K\rremote: Counting objects:  25% (21/83)\u001b[K\rremote: Counting objects:  26% (22/83)\u001b[K\rremote: Counting objects:  27% (23/83)\u001b[K\rremote: Counting objects:  28% (24/83)\u001b[K\rremote: Counting objects:  30% (25/83)\u001b[K\rremote: Counting objects:  31% (26/83)\u001b[K\rremote: Counting objects:  32% (27/83)\u001b[K\rremote: Counting objects:  33% (28/83)\u001b[K\rremote: Counting objects:  34% (29/83)\u001b[K\rremote: Counting objects:  36% (30/83)\u001b[K\rremote: Counting objects:  37% (31/83)\u001b[K\rremote: Counting objects:  38% (32/83)\u001b[K\rremote: Counting objects:  39% (33/83)\u001b[K\rremote: Counting objects:  40% (34/83)\u001b[K\rremote: Counting objects:  42% (35/83)\u001b[K\rremote: Counting objects:  43% (36/83)\u001b[K\rremote: Counting objects:  44% (37/83)\u001b[K\rremote: Counting objects:  45% (38/83)\u001b[K\rremote: Counting objects:  46% (39/83)\u001b[K\rremote: Counting objects:  48% (40/83)\u001b[K\rremote: Counting objects:  49% (41/83)\u001b[K\rremote: Counting objects:  50% (42/83)\u001b[K\rremote: Counting objects:  51% (43/83)\u001b[K\rremote: Counting objects:  53% (44/83)\u001b[K\rremote: Counting objects:  54% (45/83)\u001b[K\rremote: Counting objects:  55% (46/83)\u001b[K\rremote: Counting objects:  56% (47/83)\u001b[K\rremote: Counting objects:  57% (48/83)\u001b[K\rremote: Counting objects:  59% (49/83)\u001b[K\rremote: Counting objects:  60% (50/83)\u001b[K\rremote: Counting objects:  61% (51/83)\u001b[K\rremote: Counting objects:  62% (52/83)\u001b[K\rremote: Counting objects:  63% (53/83)\u001b[K\rremote: Counting objects:  65% (54/83)\u001b[K\rremote: Counting objects:  66% (55/83)\u001b[K\rremote: Counting objects:  67% (56/83)\u001b[K\rremote: Counting objects:  68% (57/83)\u001b[K\rremote: Counting objects:  69% (58/83)\u001b[K\rremote: Counting objects:  71% (59/83)\u001b[K\rremote: Counting objects:  72% (60/83)\u001b[K\rremote: Counting objects:  73% (61/83)\u001b[K\rremote: Counting objects:  74% (62/83)\u001b[K\rremote: Counting objects:  75% (63/83)\u001b[K\rremote: Counting objects:  77% (64/83)\u001b[K\rremote: Counting objects:  78% (65/83)\u001b[K\rremote: Counting objects:  79% (66/83)\u001b[K\rremote: Counting objects:  80% (67/83)\u001b[K\rremote: Counting objects:  81% (68/83)\u001b[K\rremote: Counting objects:  83% (69/83)\u001b[K\rremote: Counting objects:  84% (70/83)\u001b[K\rremote: Counting objects:  85% (71/83)\u001b[K\rremote: Counting objects:  86% (72/83)\u001b[K\rremote: Counting objects:  87% (73/83)\u001b[K\rremote: Counting objects:  89% (74/83)\u001b[K\rremote: Counting objects:  90% (75/83)\u001b[K\rremote: Counting objects:  91% (76/83)\u001b[K\rremote: Counting objects:  92% (77/83)\u001b[K\rremote: Counting objects:  93% (78/83)\u001b[K\rremote: Counting objects:  95% (79/83)\u001b[K\rremote: Counting objects:  96% (80/83)\u001b[K\rremote: Counting objects:  97% (81/83)\u001b[K\rremote: Counting objects:  98% (82/83)\u001b[K\rremote: Counting objects: 100% (83/83)\u001b[K\rremote: Counting objects: 100% (83/83), done.\u001b[K\n",
            "remote: Compressing objects: 100% (57/57), done.\u001b[K\n",
            "remote: Total 2294 (delta 51), reused 52 (delta 26), pack-reused 2211\u001b[K\n",
            "Receiving objects: 100% (2294/2294), 195.55 MiB | 29.94 MiB/s, done.\n",
            "Resolving deltas: 100% (1451/1451), done.\n",
            "Checking out files: 100% (65/65), done.\n"
          ],
          "name": "stdout"
        }
      ]
    },
    {
      "cell_type": "code",
      "metadata": {
        "id": "4mozuFkefE41",
        "colab_type": "code",
        "outputId": "807de21f-0d50-4232-ae26-272d3dd52d04",
        "colab": {
          "base_uri": "https://localhost:8080/",
          "height": 1000
        }
      },
      "source": [
        "# Install requirements\n",
        "%cd ForwardTacotron/  \n",
        "!apt-get install -y espeak\n",
        "!pip install -r requirements.txt"
      ],
      "execution_count": 2,
      "outputs": [
        {
          "output_type": "stream",
          "text": [
            "/content/ForwardTacotron\n",
            "Reading package lists... Done\n",
            "Building dependency tree       \n",
            "Reading state information... Done\n",
            "The following additional packages will be installed:\n",
            "  espeak-data libespeak1 libportaudio2 libsonic0\n",
            "The following NEW packages will be installed:\n",
            "  espeak espeak-data libespeak1 libportaudio2 libsonic0\n",
            "0 upgraded, 5 newly installed, 0 to remove and 29 not upgraded.\n",
            "Need to get 1,219 kB of archives.\n",
            "After this operation, 3,031 kB of additional disk space will be used.\n",
            "Get:1 http://archive.ubuntu.com/ubuntu bionic/universe amd64 libportaudio2 amd64 19.6.0-1 [64.6 kB]\n",
            "Get:2 http://archive.ubuntu.com/ubuntu bionic/main amd64 libsonic0 amd64 0.2.0-6 [13.4 kB]\n",
            "Get:3 http://archive.ubuntu.com/ubuntu bionic/universe amd64 espeak-data amd64 1.48.04+dfsg-5 [934 kB]\n",
            "Get:4 http://archive.ubuntu.com/ubuntu bionic/universe amd64 libespeak1 amd64 1.48.04+dfsg-5 [145 kB]\n",
            "Get:5 http://archive.ubuntu.com/ubuntu bionic/universe amd64 espeak amd64 1.48.04+dfsg-5 [61.6 kB]\n",
            "Fetched 1,219 kB in 0s (10.5 MB/s)\n",
            "Selecting previously unselected package libportaudio2:amd64.\n",
            "(Reading database ... 144429 files and directories currently installed.)\n",
            "Preparing to unpack .../libportaudio2_19.6.0-1_amd64.deb ...\n",
            "Unpacking libportaudio2:amd64 (19.6.0-1) ...\n",
            "Selecting previously unselected package libsonic0:amd64.\n",
            "Preparing to unpack .../libsonic0_0.2.0-6_amd64.deb ...\n",
            "Unpacking libsonic0:amd64 (0.2.0-6) ...\n",
            "Selecting previously unselected package espeak-data:amd64.\n",
            "Preparing to unpack .../espeak-data_1.48.04+dfsg-5_amd64.deb ...\n",
            "Unpacking espeak-data:amd64 (1.48.04+dfsg-5) ...\n",
            "Selecting previously unselected package libespeak1:amd64.\n",
            "Preparing to unpack .../libespeak1_1.48.04+dfsg-5_amd64.deb ...\n",
            "Unpacking libespeak1:amd64 (1.48.04+dfsg-5) ...\n",
            "Selecting previously unselected package espeak.\n",
            "Preparing to unpack .../espeak_1.48.04+dfsg-5_amd64.deb ...\n",
            "Unpacking espeak (1.48.04+dfsg-5) ...\n",
            "Setting up libportaudio2:amd64 (19.6.0-1) ...\n",
            "Setting up espeak-data:amd64 (1.48.04+dfsg-5) ...\n",
            "Setting up libsonic0:amd64 (0.2.0-6) ...\n",
            "Setting up libespeak1:amd64 (1.48.04+dfsg-5) ...\n",
            "Setting up espeak (1.48.04+dfsg-5) ...\n",
            "Processing triggers for man-db (2.8.3-2ubuntu0.1) ...\n",
            "Processing triggers for libc-bin (2.27-3ubuntu1) ...\n",
            "/sbin/ldconfig.real: /usr/local/lib/python3.6/dist-packages/ideep4py/lib/libmkldnn.so.0 is not a symbolic link\n",
            "\n",
            "Collecting librosa>=0.7.2\n",
            "\u001b[?25l  Downloading https://files.pythonhosted.org/packages/77/b5/1817862d64a7c231afd15419d8418ae1f000742cac275e85c74b219cbccb/librosa-0.7.2.tar.gz (1.6MB)\n",
            "\u001b[K     |████████████████████████████████| 1.6MB 6.7MB/s \n",
            "\u001b[?25hRequirement already satisfied: torch>=1.2.0 in /usr/local/lib/python3.6/dist-packages (from -r requirements.txt (line 2)) (1.5.0+cu101)\n",
            "Collecting phonemizer>=2.2\n",
            "\u001b[?25l  Downloading https://files.pythonhosted.org/packages/14/93/b24323b7b7d99d65c41188685f423c66b2e53d0fd959851ac224c2aa2bfb/phonemizer-2.2-py3-none-any.whl (47kB)\n",
            "\u001b[K     |████████████████████████████████| 51kB 7.1MB/s \n",
            "\u001b[?25hRequirement already satisfied: tensorboard in /usr/local/lib/python3.6/dist-packages (from -r requirements.txt (line 4)) (2.2.1)\n",
            "Requirement already satisfied: matplotlib in /usr/local/lib/python3.6/dist-packages (from -r requirements.txt (line 5)) (3.2.1)\n",
            "Collecting unidecode\n",
            "\u001b[?25l  Downloading https://files.pythonhosted.org/packages/d0/42/d9edfed04228bacea2d824904cae367ee9efd05e6cce7ceaaedd0b0ad964/Unidecode-1.1.1-py2.py3-none-any.whl (238kB)\n",
            "\u001b[K     |████████████████████████████████| 245kB 41.7MB/s \n",
            "\u001b[?25hRequirement already satisfied: inflect in /usr/local/lib/python3.6/dist-packages (from -r requirements.txt (line 7)) (2.1.0)\n",
            "Requirement already satisfied: audioread>=2.0.0 in /usr/local/lib/python3.6/dist-packages (from librosa>=0.7.2->-r requirements.txt (line 1)) (2.1.8)\n",
            "Requirement already satisfied: numpy>=1.15.0 in /usr/local/lib/python3.6/dist-packages (from librosa>=0.7.2->-r requirements.txt (line 1)) (1.18.4)\n",
            "Requirement already satisfied: scipy>=1.0.0 in /usr/local/lib/python3.6/dist-packages (from librosa>=0.7.2->-r requirements.txt (line 1)) (1.4.1)\n",
            "Requirement already satisfied: scikit-learn!=0.19.0,>=0.14.0 in /usr/local/lib/python3.6/dist-packages (from librosa>=0.7.2->-r requirements.txt (line 1)) (0.22.2.post1)\n",
            "Requirement already satisfied: joblib>=0.12 in /usr/local/lib/python3.6/dist-packages (from librosa>=0.7.2->-r requirements.txt (line 1)) (0.14.1)\n",
            "Requirement already satisfied: decorator>=3.0.0 in /usr/local/lib/python3.6/dist-packages (from librosa>=0.7.2->-r requirements.txt (line 1)) (4.4.2)\n",
            "Requirement already satisfied: six>=1.3 in /usr/local/lib/python3.6/dist-packages (from librosa>=0.7.2->-r requirements.txt (line 1)) (1.12.0)\n",
            "Requirement already satisfied: resampy>=0.2.2 in /usr/local/lib/python3.6/dist-packages (from librosa>=0.7.2->-r requirements.txt (line 1)) (0.2.2)\n",
            "Requirement already satisfied: numba>=0.43.0 in /usr/local/lib/python3.6/dist-packages (from librosa>=0.7.2->-r requirements.txt (line 1)) (0.48.0)\n",
            "Collecting soundfile>=0.9.0\n",
            "  Downloading https://files.pythonhosted.org/packages/eb/f2/3cbbbf3b96fb9fa91582c438b574cff3f45b29c772f94c400e2c99ef5db9/SoundFile-0.10.3.post1-py2.py3-none-any.whl\n",
            "Requirement already satisfied: future in /usr/local/lib/python3.6/dist-packages (from torch>=1.2.0->-r requirements.txt (line 2)) (0.16.0)\n",
            "Collecting segments\n",
            "  Downloading https://files.pythonhosted.org/packages/5b/a0/0c3fe64787745c39eb3f2f5f5f9ed8d008d9ef22e9d7f9f52f71ea4712f7/segments-2.1.3-py2.py3-none-any.whl\n",
            "Requirement already satisfied: attrs>=18.1 in /usr/local/lib/python3.6/dist-packages (from phonemizer>=2.2->-r requirements.txt (line 3)) (19.3.0)\n",
            "Requirement already satisfied: absl-py>=0.4 in /usr/local/lib/python3.6/dist-packages (from tensorboard->-r requirements.txt (line 4)) (0.9.0)\n",
            "Requirement already satisfied: google-auth<2,>=1.6.3 in /usr/local/lib/python3.6/dist-packages (from tensorboard->-r requirements.txt (line 4)) (1.7.2)\n",
            "Requirement already satisfied: requests<3,>=2.21.0 in /usr/local/lib/python3.6/dist-packages (from tensorboard->-r requirements.txt (line 4)) (2.23.0)\n",
            "Requirement already satisfied: wheel>=0.26; python_version >= \"3\" in /usr/local/lib/python3.6/dist-packages (from tensorboard->-r requirements.txt (line 4)) (0.34.2)\n",
            "Requirement already satisfied: markdown>=2.6.8 in /usr/local/lib/python3.6/dist-packages (from tensorboard->-r requirements.txt (line 4)) (3.2.1)\n",
            "Requirement already satisfied: werkzeug>=0.11.15 in /usr/local/lib/python3.6/dist-packages (from tensorboard->-r requirements.txt (line 4)) (1.0.1)\n",
            "Requirement already satisfied: protobuf>=3.6.0 in /usr/local/lib/python3.6/dist-packages (from tensorboard->-r requirements.txt (line 4)) (3.10.0)\n",
            "Requirement already satisfied: setuptools>=41.0.0 in /usr/local/lib/python3.6/dist-packages (from tensorboard->-r requirements.txt (line 4)) (46.1.3)\n",
            "Requirement already satisfied: grpcio>=1.24.3 in /usr/local/lib/python3.6/dist-packages (from tensorboard->-r requirements.txt (line 4)) (1.28.1)\n",
            "Requirement already satisfied: tensorboard-plugin-wit>=1.6.0 in /usr/local/lib/python3.6/dist-packages (from tensorboard->-r requirements.txt (line 4)) (1.6.0.post3)\n",
            "Requirement already satisfied: google-auth-oauthlib<0.5,>=0.4.1 in /usr/local/lib/python3.6/dist-packages (from tensorboard->-r requirements.txt (line 4)) (0.4.1)\n",
            "Requirement already satisfied: python-dateutil>=2.1 in /usr/local/lib/python3.6/dist-packages (from matplotlib->-r requirements.txt (line 5)) (2.8.1)\n",
            "Requirement already satisfied: cycler>=0.10 in /usr/local/lib/python3.6/dist-packages (from matplotlib->-r requirements.txt (line 5)) (0.10.0)\n",
            "Requirement already satisfied: kiwisolver>=1.0.1 in /usr/local/lib/python3.6/dist-packages (from matplotlib->-r requirements.txt (line 5)) (1.2.0)\n",
            "Requirement already satisfied: pyparsing!=2.0.4,!=2.1.2,!=2.1.6,>=2.0.1 in /usr/local/lib/python3.6/dist-packages (from matplotlib->-r requirements.txt (line 5)) (2.4.7)\n",
            "Requirement already satisfied: llvmlite<0.32.0,>=0.31.0dev0 in /usr/local/lib/python3.6/dist-packages (from numba>=0.43.0->librosa>=0.7.2->-r requirements.txt (line 1)) (0.31.0)\n",
            "Requirement already satisfied: cffi>=1.0 in /usr/local/lib/python3.6/dist-packages (from soundfile>=0.9.0->librosa>=0.7.2->-r requirements.txt (line 1)) (1.14.0)\n",
            "Collecting csvw>=1.5.6\n",
            "  Downloading https://files.pythonhosted.org/packages/d1/b6/8fef6788b8f05b21424a17ae3881eff916d42e5c7e87f57a85d9d7abf0a1/csvw-1.7.0-py2.py3-none-any.whl\n",
            "Collecting clldutils>=1.7.3\n",
            "\u001b[?25l  Downloading https://files.pythonhosted.org/packages/66/18/0fc09c3feb64131a902f4f2d1ab9371c22469ae4e9a62026ff00cbe74ea4/clldutils-3.5.0-py2.py3-none-any.whl (188kB)\n",
            "\u001b[K     |████████████████████████████████| 194kB 28.8MB/s \n",
            "\u001b[?25hRequirement already satisfied: regex in /usr/local/lib/python3.6/dist-packages (from segments->phonemizer>=2.2->-r requirements.txt (line 3)) (2019.12.20)\n",
            "Requirement already satisfied: rsa<4.1,>=3.1.4 in /usr/local/lib/python3.6/dist-packages (from google-auth<2,>=1.6.3->tensorboard->-r requirements.txt (line 4)) (4.0)\n",
            "Requirement already satisfied: pyasn1-modules>=0.2.1 in /usr/local/lib/python3.6/dist-packages (from google-auth<2,>=1.6.3->tensorboard->-r requirements.txt (line 4)) (0.2.8)\n",
            "Requirement already satisfied: cachetools<3.2,>=2.0.0 in /usr/local/lib/python3.6/dist-packages (from google-auth<2,>=1.6.3->tensorboard->-r requirements.txt (line 4)) (3.1.1)\n",
            "Requirement already satisfied: certifi>=2017.4.17 in /usr/local/lib/python3.6/dist-packages (from requests<3,>=2.21.0->tensorboard->-r requirements.txt (line 4)) (2020.4.5.1)\n",
            "Requirement already satisfied: idna<3,>=2.5 in /usr/local/lib/python3.6/dist-packages (from requests<3,>=2.21.0->tensorboard->-r requirements.txt (line 4)) (2.9)\n",
            "Requirement already satisfied: chardet<4,>=3.0.2 in /usr/local/lib/python3.6/dist-packages (from requests<3,>=2.21.0->tensorboard->-r requirements.txt (line 4)) (3.0.4)\n",
            "Requirement already satisfied: urllib3!=1.25.0,!=1.25.1,<1.26,>=1.21.1 in /usr/local/lib/python3.6/dist-packages (from requests<3,>=2.21.0->tensorboard->-r requirements.txt (line 4)) (1.24.3)\n",
            "Requirement already satisfied: requests-oauthlib>=0.7.0 in /usr/local/lib/python3.6/dist-packages (from google-auth-oauthlib<0.5,>=0.4.1->tensorboard->-r requirements.txt (line 4)) (1.3.0)\n",
            "Requirement already satisfied: pycparser in /usr/local/lib/python3.6/dist-packages (from cffi>=1.0->soundfile>=0.9.0->librosa>=0.7.2->-r requirements.txt (line 1)) (2.20)\n",
            "Collecting isodate\n",
            "\u001b[?25l  Downloading https://files.pythonhosted.org/packages/9b/9f/b36f7774ff5ea8e428fdcfc4bb332c39ee5b9362ddd3d40d9516a55221b2/isodate-0.6.0-py2.py3-none-any.whl (45kB)\n",
            "\u001b[K     |████████████████████████████████| 51kB 6.4MB/s \n",
            "\u001b[?25hRequirement already satisfied: uritemplate>=3.0.0 in /usr/local/lib/python3.6/dist-packages (from csvw>=1.5.6->segments->phonemizer>=2.2->-r requirements.txt (line 3)) (3.0.1)\n",
            "Collecting rfc3986\n",
            "  Downloading https://files.pythonhosted.org/packages/78/be/7b8b99fd74ff5684225f50dd0e865393d2265656ef3b4ba9eaaaffe622b8/rfc3986-1.4.0-py2.py3-none-any.whl\n",
            "Collecting colorlog\n",
            "  Downloading https://files.pythonhosted.org/packages/00/0d/22c73c2eccb21dd3498df7d22c0b1d4a30f5a5fb3feb64e1ce06bc247747/colorlog-4.1.0-py2.py3-none-any.whl\n",
            "Requirement already satisfied: tabulate>=0.7.7 in /usr/local/lib/python3.6/dist-packages (from clldutils>=1.7.3->segments->phonemizer>=2.2->-r requirements.txt (line 3)) (0.8.7)\n",
            "Requirement already satisfied: pyasn1>=0.1.3 in /usr/local/lib/python3.6/dist-packages (from rsa<4.1,>=3.1.4->google-auth<2,>=1.6.3->tensorboard->-r requirements.txt (line 4)) (0.4.8)\n",
            "Requirement already satisfied: oauthlib>=3.0.0 in /usr/local/lib/python3.6/dist-packages (from requests-oauthlib>=0.7.0->google-auth-oauthlib<0.5,>=0.4.1->tensorboard->-r requirements.txt (line 4)) (3.1.0)\n",
            "Building wheels for collected packages: librosa\n",
            "  Building wheel for librosa (setup.py) ... \u001b[?25l\u001b[?25hdone\n",
            "  Created wheel for librosa: filename=librosa-0.7.2-cp36-none-any.whl size=1612885 sha256=772066446a6855a38928674ad2b3aec93a528e32f9ca223605fce7785d5adc68\n",
            "  Stored in directory: /root/.cache/pip/wheels/4c/6e/d7/bb93911540d2d1e44d690a1561871e5b6af82b69e80938abef\n",
            "Successfully built librosa\n",
            "Installing collected packages: soundfile, librosa, isodate, rfc3986, csvw, colorlog, clldutils, segments, phonemizer, unidecode\n",
            "  Found existing installation: librosa 0.6.3\n",
            "    Uninstalling librosa-0.6.3:\n",
            "      Successfully uninstalled librosa-0.6.3\n",
            "Successfully installed clldutils-3.5.0 colorlog-4.1.0 csvw-1.7.0 isodate-0.6.0 librosa-0.7.2 phonemizer-2.2 rfc3986-1.4.0 segments-2.1.3 soundfile-0.10.3.post1 unidecode-1.1.1\n"
          ],
          "name": "stdout"
        }
      ]
    },
    {
      "cell_type": "code",
      "metadata": {
        "id": "D8ImU6hvuva5",
        "colab_type": "code",
        "colab": {
          "base_uri": "https://localhost:8080/",
          "height": 204
        },
        "outputId": "6d1ac8e2-3e1f-4b27-af23-212a7f97b994"
      },
      "source": [
        "!wget https://data.keithito.com/data/speech/LJSpeech-1.1.tar.bz2"
      ],
      "execution_count": 5,
      "outputs": [
        {
          "output_type": "stream",
          "text": [
            "--2020-05-14 14:05:25--  https://data.keithito.com/data/speech/LJSpeech-1.1.tar.bz2\n",
            "Resolving data.keithito.com (data.keithito.com)... 174.138.79.61\n",
            "Connecting to data.keithito.com (data.keithito.com)|174.138.79.61|:443... connected.\n",
            "HTTP request sent, awaiting response... 200 OK\n",
            "Length: 2748572632 (2.6G) [application/octet-stream]\n",
            "Saving to: ‘LJSpeech-1.1.tar.bz2’\n",
            "\n",
            "LJSpeech-1.1.tar.bz 100%[===================>]   2.56G  36.2MB/s    in 75s     \n",
            "\n",
            "2020-05-14 14:06:40 (35.2 MB/s) - ‘LJSpeech-1.1.tar.bz2’ saved [2748572632/2748572632]\n",
            "\n"
          ],
          "name": "stdout"
        }
      ]
    },
    {
      "cell_type": "code",
      "metadata": {
        "id": "yUNJ9yeOglpA",
        "colab_type": "code",
        "colab": {}
      },
      "source": [
        "!bzip2 -d LJSpeech-1.1.tar.bz2\n"
      ],
      "execution_count": 0,
      "outputs": []
    },
    {
      "cell_type": "code",
      "metadata": {
        "id": "HV-VDXNbh5hk",
        "colab_type": "code",
        "colab": {}
      },
      "source": [
        "!tar -xvf LJSpeech-1.1.tar"
      ],
      "execution_count": 0,
      "outputs": []
    },
    {
      "cell_type": "code",
      "metadata": {
        "id": "u0VzPGZ2jBVY",
        "colab_type": "code",
        "colab": {}
      },
      "source": [
        "!rm LJSpeech-1.1.tar"
      ],
      "execution_count": 0,
      "outputs": []
    },
    {
      "cell_type": "code",
      "metadata": {
        "id": "131wElDYkZwT",
        "colab_type": "code",
        "colab": {
          "base_uri": "https://localhost:8080/",
          "height": 238
        },
        "outputId": "ee08751d-7009-4f5a-f71f-56361a24a235"
      },
      "source": [
        "!python preprocess.py --path LJSpeech-1.1"
      ],
      "execution_count": 24,
      "outputs": [
        {
          "output_type": "stream",
          "text": [
            "\n",
            "13100 wav files found in \"LJSpeech-1.1\"\n",
            "\n",
            "+-------------+-----------+--------+------------+-----------+----------------+\n",
            "| Sample Rate | Bit Depth | Mu Law | Hop Length | CPU Usage | Num Validation |\n",
            "+-------------+-----------+--------+------------+-----------+----------------+\n",
            "|    22050    |     9     |  True  |    275     |    1/2    |      200       |\n",
            "+-------------+-----------+--------+------------+-----------+----------------+\n",
            " \n",
            "████████████████ 13100/13100 \n",
            "\n",
            "Completed. Ready to run \"python train_tacotron.py\" or \"python train_wavernn.py\". \n",
            "\n"
          ],
          "name": "stdout"
        }
      ]
    },
    {
      "cell_type": "code",
      "metadata": {
        "id": "jYwMLHywq30A",
        "colab_type": "code",
        "colab": {
          "base_uri": "https://localhost:8080/",
          "height": 649
        },
        "outputId": "d6db8b80-db0b-4f48-ef9d-5ee2aab13aac"
      },
      "source": [
        "!python train_tacotron.py"
      ],
      "execution_count": 30,
      "outputs": [
        {
          "output_type": "stream",
          "text": [
            "Using device: cuda\n",
            "\n",
            "Initialising Tacotron Model...\n",
            "\n",
            "Trainable Parameters: 11.083M\n",
            "Num Params: 11083104\n",
            "Creating latest checkpoint...\n",
            "Saving latest weights: /content/ForwardTacotron/checkpoints/ljspeech_tts.tacotron/latest_weights.pyt\n",
            "Saving latest optimizer state: /content/ForwardTacotron/checkpoints/ljspeech_tts.tacotron/latest_optim.pyt\n",
            "2020-05-14 14:54:17.821925: I tensorflow/stream_executor/platform/default/dso_loader.cc:44] Successfully opened dynamic library libcudart.so.10.1\n",
            "+-----------------+------------+---------------+------------------+\n",
            "| Steps with r=10 | Batch Size | Learning Rate | Outputs/Step (r) |\n",
            "+-----------------+------------+---------------+------------------+\n",
            "|    10k Steps    |     32     |     0.001     |        10        |\n",
            "+-----------------+------------+---------------+------------------+\n",
            " \n",
            "| Epoch: 1/25 (404/404) | Loss: 1.538 | 1.3 steps/s | Step: 0k |  \n",
            "| Epoch: 2/25 (404/404) | Loss: 1.403 | 1.3 steps/s | Step: 0k |  \n",
            "| Epoch: 3/25 (191/404) | Loss: 1.367 | 1.3 steps/s | Step: 0k | tcmalloc: large alloc 1154138112 bytes == 0x67a30000 @  0x7f7b4e60e001 0x7f7b02d95765 0x7f7b02df9bb0 0x7f7b02dfba4f 0x7f7b02e92048 0x50a635 0x50bfb4 0x507d64 0x588e5c 0x59fc4e 0x50d356 0x507d64 0x588e5c 0x59fc4e 0x50d356 0x507d64 0x588e5c 0x59fc4e 0x50d356 0x507d64 0x509a90 0x50a48d 0x50bfb4 0x507d64 0x509a90 0x50a48d 0x50cd96 0x507d64 0x509a90 0x50a48d 0x50bfb4\n",
            "Traceback (most recent call last):\n",
            "  File \"train_tacotron.py\", line 136, in <module>\n",
            "    trainer.train(model, optimizer)\n",
            "  File \"/content/ForwardTacotron/trainer/taco_trainer.py\", line 35, in train\n",
            "    self.train_session(model, optimizer, session)\n",
            "  File \"/content/ForwardTacotron/trainer/taco_trainer.py\", line 84, in train_session\n",
            "    self.generate_plots(model, session)\n",
            "  File \"/content/ForwardTacotron/utils/decorators.py\", line 8, in apply_func\n",
            "    result = f(*args, **kwargs)\n",
            "  File \"/content/ForwardTacotron/trainer/taco_trainer.py\", line 166, in generate_plots\n",
            "    global_step=model.step, sample_rate=hp.sample_rate)\n",
            "  File \"/usr/local/lib/python3.6/dist-packages/torch/utils/tensorboard/writer.py\", line 669, in add_audio\n",
            "    audio(tag, snd_tensor, sample_rate=sample_rate), global_step, walltime)\n",
            "  File \"/usr/local/lib/python3.6/dist-packages/torch/utils/tensorboard/summary.py\", line 429, in audio\n",
            "    tensor_enc += struct.pack('<h', v)\n",
            "KeyboardInterrupt\n",
            "^C\n"
          ],
          "name": "stdout"
        }
      ]
    },
    {
      "cell_type": "code",
      "metadata": {
        "id": "P8MAPmiyuyy1",
        "colab_type": "code",
        "colab": {
          "base_uri": "https://localhost:8080/",
          "height": 119
        },
        "outputId": "a09570e0-a4a1-40eb-c997-b41a0af3bfe8"
      },
      "source": [
        "!ls -lat checkpoints"
      ],
      "execution_count": 34,
      "outputs": [
        {
          "output_type": "stream",
          "text": [
            "total 20\n",
            "drwxr-xr-x  5 root root 4096 May 14 14:54 ljspeech_tts.tacotron\n",
            "drwxr-xr-x  5 root root 4096 May 14 14:24 .\n",
            "drwxr-xr-x  4 root root 4096 May 14 14:24 ljspeech_tts.forward\n",
            "drwxr-xr-x 16 root root 4096 May 14 14:24 ..\n",
            "drwxr-xr-x  3 root root 4096 May 14 14:24 ljspeech_raw.wavernn\n"
          ],
          "name": "stdout"
        }
      ]
    },
    {
      "cell_type": "code",
      "metadata": {
        "id": "7i8bpUAYvBCz",
        "colab_type": "code",
        "colab": {
          "base_uri": "https://localhost:8080/",
          "height": 1000
        },
        "outputId": "14cf4687-1959-4b65-997d-786247e7fafd"
      },
      "source": [
        "!python train_tacotron.py"
      ],
      "execution_count": 35,
      "outputs": [
        {
          "output_type": "stream",
          "text": [
            "Using device: cuda\n",
            "\n",
            "Initialising Tacotron Model...\n",
            "\n",
            "Trainable Parameters: 11.083M\n",
            "Num Params: 11083104\n",
            "Restoring from latest checkpoint...\n",
            "Loading latest weights: /content/ForwardTacotron/checkpoints/ljspeech_tts.tacotron/latest_weights.pyt\n",
            "Loading latest optimizer state: /content/ForwardTacotron/checkpoints/ljspeech_tts.tacotron/latest_optim.pyt\n",
            "Loaded model at step: 808\n",
            "2020-05-14 15:09:58.948219: I tensorflow/stream_executor/platform/default/dso_loader.cc:44] Successfully opened dynamic library libcudart.so.10.1\n",
            "+-----------------+------------+---------------+------------------+\n",
            "| Steps with r=10 | Batch Size | Learning Rate | Outputs/Step (r) |\n",
            "+-----------------+------------+---------------+------------------+\n",
            "|    9k Steps     |     32     |     0.001     |        10        |\n",
            "+-----------------+------------+---------------+------------------+\n",
            " \n",
            "| Epoch: 1/23 (191/404) | Loss: 1.368 | 1.4 steps/s | Step: 0k | tcmalloc: large alloc 1154138112 bytes == 0x68e16000 @  0x7fc167c03001 0x7fc11c38a765 0x7fc11c3eebb0 0x7fc11c3f0a4f 0x7fc11c487048 0x50a635 0x50bfb4 0x507d64 0x588e5c 0x59fc4e 0x50d356 0x507d64 0x588e5c 0x59fc4e 0x50d356 0x507d64 0x588e5c 0x59fc4e 0x50d356 0x507d64 0x509a90 0x50a48d 0x50bfb4 0x507d64 0x509a90 0x50a48d 0x50cd96 0x507d64 0x509a90 0x50a48d 0x50bfb4\n",
            "| Epoch: 1/23 (404/404) | Loss: 1.358 | 1.3 steps/s | Step: 1k |  \n",
            "| Epoch: 2/23 (404/404) | Loss: 1.328 | 1.3 steps/s | Step: 1k |  \n",
            "| Epoch: 3/23 (404/404) | Loss: 1.307 | 1.3 steps/s | Step: 2k |  \n",
            "| Epoch: 4/23 (404/404) | Loss: 1.288 | 1.3 steps/s | Step: 2k |  \n",
            "| Epoch: 5/23 (404/404) | Loss: 1.262 | 1.3 steps/s | Step: 2k |  \n",
            "| Epoch: 6/23 (404/404) | Loss: 1.176 | 1.3 steps/s | Step: 3k |  \n",
            "| Epoch: 7/23 (404/404) | Loss: 1.111 | 1.3 steps/s | Step: 3k |  \n",
            "| Epoch: 8/23 (404/404) | Loss: 1.077 | 1.3 steps/s | Step: 4k |  \n",
            "| Epoch: 9/23 (404/404) | Loss: 1.052 | 1.3 steps/s | Step: 4k |  \n",
            "| Epoch: 10/23 (404/404) | Loss: 1.034 | 1.3 steps/s | Step: 4k |  \n",
            "| Epoch: 11/23 (404/404) | Loss: 1.019 | 1.3 steps/s | Step: 5k |  \n",
            "| Epoch: 12/23 (404/404) | Loss: 1.007 | 1.3 steps/s | Step: 5k |  \n",
            "| Epoch: 13/23 (404/404) | Loss: 0.9978 | 1.3 steps/s | Step: 6k |  \n",
            "| Epoch: 14/23 (404/404) | Loss: 0.9883 | 1.3 steps/s | Step: 6k |  \n",
            "| Epoch: 15/23 (404/404) | Loss: 0.9791 | 1.3 steps/s | Step: 6k |  \n",
            "| Epoch: 16/23 (404/404) | Loss: 0.9708 | 1.3 steps/s | Step: 7k |  \n",
            "| Epoch: 17/23 (404/404) | Loss: 0.9645 | 1.3 steps/s | Step: 7k |  \n",
            "| Epoch: 18/23 (404/404) | Loss: 0.9584 | 1.3 steps/s | Step: 8k |  \n",
            "| Epoch: 19/23 (404/404) | Loss: 0.9524 | 1.3 steps/s | Step: 8k |  \n",
            "| Epoch: 20/23 (404/404) | Loss: 0.9503 | 1.3 steps/s | Step: 8k |  \n",
            "| Epoch: 21/23 (404/404) | Loss: 0.9425 | 1.3 steps/s | Step: 9k |  \n",
            "| Epoch: 22/23 (404/404) | Loss: 0.9372 | 1.3 steps/s | Step: 9k |  \n",
            "| Epoch: 23/23 (404/404) | Loss: 0.9330 | 1.3 steps/s | Step: 10k |  \n",
            "+----------------+------------+---------------+------------------+\n",
            "| Steps with r=5 | Batch Size | Learning Rate | Outputs/Step (r) |\n",
            "+----------------+------------+---------------+------------------+\n",
            "|    9k Steps    |     16     |    0.0001     |        5         |\n",
            "+----------------+------------+---------------+------------------+\n",
            " \n",
            "| Epoch: 1/13 (807/807) | Loss: 0.8403 | 1.0 steps/s | Step: 10k |  \n",
            "| Epoch: 2/13 (807/807) | Loss: 0.8133 | 1.0 steps/s | Step: 11k |  \n",
            "| Epoch: 3/13 (807/807) | Loss: 0.8055 | 1.0 steps/s | Step: 12k |  \n",
            "| Epoch: 4/13 (807/807) | Loss: 0.8000 | 1.0 steps/s | Step: 13k |  \n",
            "| Epoch: 5/13 (615/807) | Loss: 0.7959 | 1.1 steps/s | Step: 13k | Traceback (most recent call last):\n",
            "  File \"train_tacotron.py\", line 136, in <module>\n",
            "    trainer.train(model, optimizer)\n",
            "  File \"/content/ForwardTacotron/trainer/taco_trainer.py\", line 35, in train\n",
            "    self.train_session(model, optimizer, session)\n",
            "  File \"/content/ForwardTacotron/trainer/taco_trainer.py\", line 66, in train_session\n",
            "    loss.backward()\n",
            "  File \"/usr/local/lib/python3.6/dist-packages/torch/tensor.py\", line 198, in backward\n",
            "    torch.autograd.backward(self, gradient, retain_graph, create_graph)\n",
            "  File \"/usr/local/lib/python3.6/dist-packages/torch/autograd/__init__.py\", line 100, in backward\n",
            "    allow_unreachable=True)  # allow_unreachable flag\n",
            "KeyboardInterrupt\n",
            "Traceback (most recent call last):\n",
            "  File \"/usr/lib/python3.6/multiprocessing/queues.py\", line 240, in _feed\n",
            "    send_bytes(obj)\n",
            "  File \"/usr/lib/python3.6/multiprocessing/connection.py\", line 200, in send_bytes\n",
            "    self._send_bytes(m[offset:offset + size])\n",
            "  File \"/usr/lib/python3.6/multiprocessing/connection.py\", line 404, in _send_bytes\n",
            "    self._send(header + buf)\n",
            "  File \"/usr/lib/python3.6/multiprocessing/connection.py\", line 368, in _send\n",
            "    n = write(self._handle, buf)\n",
            "BrokenPipeError: [Errno 32] Broken pipe\n",
            "^C\n"
          ],
          "name": "stdout"
        }
      ]
    },
    {
      "cell_type": "code",
      "metadata": {
        "id": "4s0Xfg5Udyai",
        "colab_type": "code",
        "colab": {}
      },
      "source": [
        "!git add checkpoints/\n"
      ],
      "execution_count": 0,
      "outputs": []
    },
    {
      "cell_type": "code",
      "metadata": {
        "id": "LVwX4coRgyA9",
        "colab_type": "code",
        "colab": {
          "base_uri": "https://localhost:8080/",
          "height": 153
        },
        "outputId": "da33e837-1883-4333-e3e9-524b1a921202"
      },
      "source": [
        "!git config --global user.email \"giuliogatto@gmail.com\"\n",
        "!git config --global user.name \"Giulio Gatto\"\n",
        "!git commit -m \"Checkpoint 10k\""
      ],
      "execution_count": 55,
      "outputs": [
        {
          "output_type": "stream",
          "text": [
            "[master a3c17ac] Checkpoint 10k\n",
            " 6 files changed, 0 insertions(+), 0 deletions(-)\n",
            " create mode 100644 checkpoints/ljspeech_tts.tacotron/latest_optim.pyt\n",
            " create mode 100644 checkpoints/ljspeech_tts.tacotron/latest_weights.pyt\n",
            " create mode 100644 checkpoints/ljspeech_tts.tacotron/taco_step10K_optim.pyt\n",
            " create mode 100644 checkpoints/ljspeech_tts.tacotron/taco_step10K_weights.pyt\n",
            " create mode 100644 checkpoints/ljspeech_tts.tacotron/tensorboard/events.out.tfevents.1589468062.cc65d6e51adc.179307.0\n",
            " create mode 100644 checkpoints/ljspeech_tts.tacotron/tensorboard/events.out.tfevents.1589469000.cc65d6e51adc.179507.0\n"
          ],
          "name": "stdout"
        }
      ]
    },
    {
      "cell_type": "code",
      "metadata": {
        "id": "Hc71ONBghMIx",
        "colab_type": "code",
        "colab": {}
      },
      "source": [
        "!git remote add origingatto https://github.com/giuliogatto/tacotron-models.git"
      ],
      "execution_count": 0,
      "outputs": []
    },
    {
      "cell_type": "code",
      "metadata": {
        "id": "_pIrUq_phUE3",
        "colab_type": "code",
        "colab": {
          "base_uri": "https://localhost:8080/",
          "height": 34
        },
        "outputId": "c40e059e-c955-4919-afbd-cdac8c4c95f4"
      },
      "source": [
        "!git push origingatto master"
      ],
      "execution_count": 59,
      "outputs": [
        {
          "output_type": "stream",
          "text": [
            "fatal: could not read Username for 'https://github.com': No such device or address\n"
          ],
          "name": "stdout"
        }
      ]
    },
    {
      "cell_type": "code",
      "metadata": {
        "id": "NevXiuEOhA6Z",
        "colab_type": "code",
        "colab": {}
      },
      "source": [
        ""
      ],
      "execution_count": 0,
      "outputs": []
    }
  ]
}